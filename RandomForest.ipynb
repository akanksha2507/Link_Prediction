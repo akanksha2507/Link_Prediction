{
 "cells": [
  {
   "cell_type": "code",
   "execution_count": 63,
   "metadata": {
    "collapsed": true,
    "deletable": true,
    "editable": true
   },
   "outputs": [],
   "source": [
    "import numpy as np\n",
    "from sklearn.model_selection import train_test_split\n",
    "from sklearn.ensemble import RandomForestClassifier, GradientBoostingClassifier, AdaBoostClassifier\n",
    "from sklearn.tree import DecisionTreeClassifier\n",
    "from sklearn.metrics import f1_score, accuracy_score\n",
    "import csv"
   ]
  },
  {
   "cell_type": "markdown",
   "metadata": {
    "deletable": true,
    "editable": true
   },
   "source": [
    "## Read train features jahnavi (with author features)"
   ]
  },
  {
   "cell_type": "code",
   "execution_count": 15,
   "metadata": {
    "collapsed": false,
    "deletable": true,
    "editable": true
   },
   "outputs": [],
   "source": [
    "train_features = np.genfromtxt('features_train_unscaled_authors.csv', delimiter=',')"
   ]
  },
  {
   "cell_type": "code",
   "execution_count": 16,
   "metadata": {
    "collapsed": false,
    "deletable": true,
    "editable": true,
    "scrolled": true
   },
   "outputs": [
    {
     "name": "stdout",
     "output_type": "stream",
     "text": [
      "(615513, 17)\n"
     ]
    },
    {
     "data": {
      "text/plain": [
       "array([  9.51012300e+06,   9.50211400e+06,   1.00000000e+00,\n",
       "         2.00000000e+00,   0.00000000e+00,   0.00000000e+00,\n",
       "         2.00000000e+00,   5.88235294e-02,   5.13898342e-01,\n",
       "         1.26084128e-01,   0.00000000e+00,   0.00000000e+00,\n",
       "         0.00000000e+00,   0.00000000e+00,   0.00000000e+00,\n",
       "         2.44000000e+02,   2.00000000e+00])"
      ]
     },
     "execution_count": 16,
     "metadata": {},
     "output_type": "execute_result"
    }
   ],
   "source": [
    "print train_features.shape\n",
    "train_features = train_features[1:] # Ignoring the header\n",
    "train_features[0]"
   ]
  },
  {
   "cell_type": "markdown",
   "metadata": {
    "deletable": true,
    "editable": true
   },
   "source": [
    "## Adding citation features:"
   ]
  },
  {
   "cell_type": "code",
   "execution_count": 17,
   "metadata": {
    "collapsed": false,
    "deletable": true,
    "editable": true
   },
   "outputs": [],
   "source": [
    "avg_citation_in_source = np.genfromtxt('avg_citation_in_source.txt')\n",
    "avg_citation_in_target = np.genfromtxt('avg_citation_in_target.txt')\n",
    "avg_citation_out_source = np.genfromtxt('avg_citation_out_source.txt')\n",
    "avg_citation_out_target = np.genfromtxt('avg_citation_out_target.txt')"
   ]
  },
  {
   "cell_type": "code",
   "execution_count": 18,
   "metadata": {
    "collapsed": false,
    "deletable": true,
    "editable": true
   },
   "outputs": [],
   "source": [
    "train_features_new = np.array([avg_citation_in_source, avg_citation_in_target, avg_citation_out_source, avg_citation_out_target])"
   ]
  },
  {
   "cell_type": "code",
   "execution_count": 19,
   "metadata": {
    "collapsed": false,
    "deletable": true,
    "editable": true
   },
   "outputs": [
    {
     "data": {
      "text/plain": [
       "(4, 615512)"
      ]
     },
     "execution_count": 19,
     "metadata": {},
     "output_type": "execute_result"
    }
   ],
   "source": [
    "train_features_new.shape"
   ]
  },
  {
   "cell_type": "code",
   "execution_count": 20,
   "metadata": {
    "collapsed": false,
    "deletable": true,
    "editable": true
   },
   "outputs": [],
   "source": [
    "train_features = np.concatenate((train_features, train_features_new.T), axis=1)"
   ]
  },
  {
   "cell_type": "code",
   "execution_count": 21,
   "metadata": {
    "collapsed": false,
    "deletable": true,
    "editable": true
   },
   "outputs": [
    {
     "data": {
      "text/plain": [
       "(615512, 21)"
      ]
     },
     "execution_count": 21,
     "metadata": {},
     "output_type": "execute_result"
    }
   ],
   "source": [
    "train_features.shape"
   ]
  },
  {
   "cell_type": "code",
   "execution_count": 22,
   "metadata": {
    "collapsed": true,
    "deletable": true,
    "editable": true
   },
   "outputs": [],
   "source": [
    "X = train_features[:,3:]\n",
    "y = train_features[:,2]\n",
    "y = np.array(y, dtype=int)"
   ]
  },
  {
   "cell_type": "code",
   "execution_count": 23,
   "metadata": {
    "collapsed": true,
    "deletable": true,
    "editable": true
   },
   "outputs": [],
   "source": [
    "# from sklearn.feature_selection import SelectKBest\n",
    "# from sklearn.feature_selection import chi2, f_classif, mutual_info_classif"
   ]
  },
  {
   "cell_type": "code",
   "execution_count": 24,
   "metadata": {
    "collapsed": false,
    "deletable": true,
    "editable": true
   },
   "outputs": [],
   "source": [
    "# selection = SelectKBest(mutual_info_classif, k=4)\n",
    "# X_new = selection.fit_transform(X, y)\n",
    "# print selection.get_support()\n",
    "# print selection.scores_"
   ]
  },
  {
   "cell_type": "code",
   "execution_count": 25,
   "metadata": {
    "collapsed": false,
    "deletable": true,
    "editable": true
   },
   "outputs": [],
   "source": [
    "# np.argsort(selection.scores_)"
   ]
  },
  {
   "cell_type": "code",
   "execution_count": 26,
   "metadata": {
    "collapsed": true,
    "deletable": true,
    "editable": true
   },
   "outputs": [],
   "source": [
    "X_train, X_val, y_train, y_val = train_test_split(\n",
    "    X, y, test_size=0.33, random_state=42)"
   ]
  },
  {
   "cell_type": "markdown",
   "metadata": {
    "deletable": true,
    "editable": true
   },
   "source": [
    "## RandomForest"
   ]
  },
  {
   "cell_type": "code",
   "execution_count": 58,
   "metadata": {
    "collapsed": false,
    "deletable": true,
    "editable": true
   },
   "outputs": [
    {
     "data": {
      "text/plain": [
       "RandomForestClassifier(bootstrap=True, class_weight=None, criterion='gini',\n",
       "            max_depth=10, max_features=7, max_leaf_nodes=None,\n",
       "            min_impurity_split=1e-07, min_samples_leaf=1,\n",
       "            min_samples_split=2, min_weight_fraction_leaf=0.0,\n",
       "            n_estimators=500, n_jobs=4, oob_score=False, random_state=None,\n",
       "            verbose=0, warm_start=False)"
      ]
     },
     "execution_count": 58,
     "metadata": {},
     "output_type": "execute_result"
    }
   ],
   "source": [
    "clf = RandomForestClassifier(n_estimators=500, max_depth=10, max_features=7, n_jobs=4)\n",
    "clf.fit(X_train, y_train)"
   ]
  },
  {
   "cell_type": "code",
   "execution_count": 59,
   "metadata": {
    "collapsed": true,
    "deletable": true,
    "editable": true
   },
   "outputs": [],
   "source": [
    "y_train_prediction=clf.predict(X_train)"
   ]
  },
  {
   "cell_type": "code",
   "execution_count": 60,
   "metadata": {
    "collapsed": false,
    "deletable": true,
    "editable": true
   },
   "outputs": [
    {
     "name": "stdout",
     "output_type": "stream",
     "text": [
      "F1-score:  0.977038714761\n",
      "Accuracy:  0.975195990233\n"
     ]
    }
   ],
   "source": [
    "f1score = f1_score(y_train, y_train_prediction)\n",
    "acc = accuracy_score(y_train, y_train_prediction)\n",
    "print 'F1-score: ', f1score\n",
    "print 'Accuracy: ', acc"
   ]
  },
  {
   "cell_type": "code",
   "execution_count": 61,
   "metadata": {
    "collapsed": false,
    "deletable": true,
    "editable": true
   },
   "outputs": [
    {
     "name": "stdout",
     "output_type": "stream",
     "text": [
      "F1-score:  0.975585564271\n",
      "Accuracy:  0.973581988883\n"
     ]
    }
   ],
   "source": [
    "y_val_pred = clf.predict(X_val)\n",
    "f1score = f1_score(y_val, y_val_pred)\n",
    "acc = accuracy_score(y_val, y_val_pred)\n",
    "print 'F1-score: ', f1score\n",
    "print 'Accuracy: ', acc"
   ]
  },
  {
   "cell_type": "markdown",
   "metadata": {
    "deletable": true,
    "editable": true
   },
   "source": [
    "## AdaBoost"
   ]
  },
  {
   "cell_type": "code",
   "execution_count": 74,
   "metadata": {
    "collapsed": false,
    "deletable": true,
    "editable": true
   },
   "outputs": [],
   "source": [
    "bdt = AdaBoostClassifier(DecisionTreeClassifier(max_depth=4),\n",
    "                         algorithm=\"SAMME.R\",\n",
    "                         n_estimators=200,learning_rate=0.2,random_state=42)"
   ]
  },
  {
   "cell_type": "code",
   "execution_count": 75,
   "metadata": {
    "collapsed": false,
    "deletable": true,
    "editable": true
   },
   "outputs": [
    {
     "name": "stdout",
     "output_type": "stream",
     "text": [
      "CPU times: user 0 ns, sys: 0 ns, total: 0 ns\n",
      "Wall time: 9.06 µs\n"
     ]
    },
    {
     "data": {
      "text/plain": [
       "AdaBoostClassifier(algorithm='SAMME.R',\n",
       "          base_estimator=DecisionTreeClassifier(class_weight=None, criterion='gini', max_depth=4,\n",
       "            max_features=None, max_leaf_nodes=None,\n",
       "            min_impurity_split=1e-07, min_samples_leaf=1,\n",
       "            min_samples_split=2, min_weight_fraction_leaf=0.0,\n",
       "            presort=False, random_state=None, splitter='best'),\n",
       "          learning_rate=0.2, n_estimators=200, random_state=42)"
      ]
     },
     "execution_count": 75,
     "metadata": {},
     "output_type": "execute_result"
    }
   ],
   "source": [
    "%time\n",
    "bdt.fit(X_train, y_train)"
   ]
  },
  {
   "cell_type": "code",
   "execution_count": 76,
   "metadata": {
    "collapsed": true,
    "deletable": true,
    "editable": true
   },
   "outputs": [],
   "source": [
    "y_train_prediction=bdt.predict(X_train)"
   ]
  },
  {
   "cell_type": "code",
   "execution_count": 77,
   "metadata": {
    "collapsed": false,
    "deletable": true,
    "editable": true
   },
   "outputs": [
    {
     "name": "stdout",
     "output_type": "stream",
     "text": [
      "F1-score:  0.977340864702\n",
      "Accuracy:  0.975496674289\n"
     ]
    }
   ],
   "source": [
    "f1score = f1_score(y_train, y_train_prediction)\n",
    "acc = accuracy_score(y_train, y_train_prediction)\n",
    "print 'F1-score: ', f1score\n",
    "print 'Accuracy: ', acc"
   ]
  },
  {
   "cell_type": "code",
   "execution_count": 78,
   "metadata": {
    "collapsed": false,
    "deletable": true,
    "editable": true
   },
   "outputs": [
    {
     "name": "stdout",
     "output_type": "stream",
     "text": [
      "F1-score:  0.976445999364\n",
      "Accuracy:  0.974478015351\n"
     ]
    }
   ],
   "source": [
    "y_val_pred = bdt.predict(X_val)\n",
    "f1score = f1_score(y_val, y_val_pred)\n",
    "acc = accuracy_score(y_val, y_val_pred)\n",
    "print 'F1-score: ', f1score\n",
    "print 'Accuracy: ', acc"
   ]
  },
  {
   "cell_type": "code",
   "execution_count": 88,
   "metadata": {
    "collapsed": false,
    "deletable": true,
    "editable": true
   },
   "outputs": [
    {
     "name": "stdout",
     "output_type": "stream",
     "text": [
      "Parameters: n_estimator:  300  Max depth of tree:  10  Max features:  8\n",
      "Train F1-score:  0.977081589183 \tValidation F1-score:  0.975597994705\n",
      "Classifier is:  RandomForestClassifier(bootstrap=True, class_weight=None, criterion='gini',\n",
      "            max_depth=10, max_features=8, max_leaf_nodes=None,\n",
      "            min_impurity_split=1e-07, min_samples_leaf=1,\n",
      "            min_samples_split=2, min_weight_fraction_leaf=0.0,\n",
      "            n_estimators=300, n_jobs=1, oob_score=False, random_state=None,\n",
      "            verbose=0, warm_start=False)\n",
      "Score improved with params:  {'max_features': 8, 'max_depth': 10, 'n_estimator': 300}\n",
      "Parameters: n_estimator:  300  Max depth of tree:  10  Max features:  10\n",
      "Train F1-score:  0.977402905213 \tValidation F1-score:  0.975602432933\n",
      "Classifier is:  RandomForestClassifier(bootstrap=True, class_weight=None, criterion='gini',\n",
      "            max_depth=10, max_features=10, max_leaf_nodes=None,\n",
      "            min_impurity_split=1e-07, min_samples_leaf=1,\n",
      "            min_samples_split=2, min_weight_fraction_leaf=0.0,\n",
      "            n_estimators=300, n_jobs=1, oob_score=False, random_state=None,\n",
      "            verbose=0, warm_start=False)\n",
      "Score improved with params:  {'max_features': 10, 'max_depth': 10, 'n_estimator': 300}\n",
      "Parameters: n_estimator:  300  Max depth of tree:  12  Max features:  8\n",
      "Train F1-score:  0.979584232995 \tValidation F1-score:  0.976043519197\n",
      "Classifier is:  RandomForestClassifier(bootstrap=True, class_weight=None, criterion='gini',\n",
      "            max_depth=12, max_features=8, max_leaf_nodes=None,\n",
      "            min_impurity_split=1e-07, min_samples_leaf=1,\n",
      "            min_samples_split=2, min_weight_fraction_leaf=0.0,\n",
      "            n_estimators=300, n_jobs=1, oob_score=False, random_state=None,\n",
      "            verbose=0, warm_start=False)\n",
      "Score improved with params:  {'max_features': 8, 'max_depth': 12, 'n_estimator': 300}\n",
      "Parameters: n_estimator:  300  Max depth of tree:  12  Max features:  10\n",
      "Train F1-score:  0.979811967385 \tValidation F1-score:  0.976003492385\n",
      "Parameters: n_estimator:  500  Max depth of tree:  10  Max features:  8\n",
      "Train F1-score:  0.97714381909 \tValidation F1-score:  0.975568698817\n",
      "Parameters: n_estimator:  500  Max depth of tree:  10  Max features:  10\n",
      "Train F1-score:  0.977392545577 \tValidation F1-score:  0.975534973433\n",
      "Parameters: n_estimator:  500  Max depth of tree:  12  Max features:  8\n",
      "Train F1-score:  0.979560870717 \tValidation F1-score:  0.976030637121\n",
      "Parameters: n_estimator:  500  Max depth of tree:  12  Max features:  10\n",
      "Train F1-score:  0.979839080718 \tValidation F1-score:  0.975984647637\n",
      "RandomForestClassifier(bootstrap=True, class_weight=None, criterion='gini',\n",
      "            max_depth=12, max_features=8, max_leaf_nodes=None,\n",
      "            min_impurity_split=1e-07, min_samples_leaf=1,\n",
      "            min_samples_split=2, min_weight_fraction_leaf=0.0,\n",
      "            n_estimators=300, n_jobs=1, oob_score=False, random_state=None,\n",
      "            verbose=0, warm_start=False)\n",
      "{'max_features': 8, 'max_depth': 12, 'n_estimator': 300}\n",
      "0.976043519197\n"
     ]
    }
   ],
   "source": [
    "n_estimators = [300,500]\n",
    "max_depth = [10,12]\n",
    "max_features=[8,10]\n",
    "best_random = None\n",
    "best_params = {}\n",
    "best_f1 = 0.0\n",
    "\n",
    "for n_e in n_estimators:\n",
    "    for d in max_depth:\n",
    "        for n in max_features:\n",
    "            \n",
    "            print \"Parameters: n_estimator: \",n_e,  \" Max depth of tree: \",d , \" Max features: \",n\n",
    "            \n",
    "            random_clf = RandomForestClassifier(n_estimators = n_e, max_depth = d , max_features=n)\n",
    "            \n",
    "            temp_clf = random_clf.fit(X_train, y_train)\n",
    "            y_train_prediction = temp_clf.predict(X_train)\n",
    "            f1score_train = f1_score(y_train, y_train_prediction)\n",
    "            print 'Train F1-score: ', f1score_train,\n",
    "            \n",
    "            y_val_pred = temp_clf.predict(X_val)\n",
    "            f1score_validation = f1_score(y_val, y_val_pred)\n",
    "            print '\\tValidation F1-score: ', f1score_validation\n",
    "            \n",
    "            if f1score_validation > best_f1:\n",
    "                best_f1 = f1score_validation\n",
    "                best_random = temp_clf\n",
    "                best_params['n_estimator'] = n_e\n",
    "                best_params['max_depth'] = d\n",
    "                best_params['max_features'] = n\n",
    "                print \"Classifier is: \", best_random\n",
    "                print \"Score improved with params: \", best_params\n",
    "\n",
    "print best_random\n",
    "print best_params\n",
    "print best_f1"
   ]
  },
  {
   "cell_type": "code",
   "execution_count": null,
   "metadata": {
    "collapsed": true,
    "deletable": true,
    "editable": true
   },
   "outputs": [],
   "source": []
  },
  {
   "cell_type": "code",
   "execution_count": null,
   "metadata": {
    "collapsed": true,
    "deletable": true,
    "editable": true
   },
   "outputs": [],
   "source": []
  },
  {
   "cell_type": "code",
   "execution_count": null,
   "metadata": {
    "collapsed": true,
    "deletable": true,
    "editable": true
   },
   "outputs": [],
   "source": []
  },
  {
   "cell_type": "markdown",
   "metadata": {
    "collapsed": true,
    "deletable": true,
    "editable": true
   },
   "source": [
    "### Running for test data "
   ]
  },
  {
   "cell_type": "code",
   "execution_count": 89,
   "metadata": {
    "collapsed": false,
    "deletable": true,
    "editable": true,
    "scrolled": true
   },
   "outputs": [
    {
     "name": "stdout",
     "output_type": "stream",
     "text": [
      "(32649, 16)\n"
     ]
    }
   ],
   "source": [
    "test_features = np.genfromtxt('features_test_unscaled_authors.csv', delimiter=',')\n",
    "print test_features.shape"
   ]
  },
  {
   "cell_type": "code",
   "execution_count": 90,
   "metadata": {
    "collapsed": false,
    "deletable": true,
    "editable": true
   },
   "outputs": [
    {
     "name": "stdout",
     "output_type": "stream",
     "text": [
      "(32648, 16)\n"
     ]
    }
   ],
   "source": [
    "test_features = test_features[1:] # Ignoring the header\n",
    "print test_features.shape"
   ]
  },
  {
   "cell_type": "code",
   "execution_count": 91,
   "metadata": {
    "collapsed": true,
    "deletable": true,
    "editable": true
   },
   "outputs": [],
   "source": [
    "avg_citation_in_source_test = np.genfromtxt('avg_citation_in_source_test.txt')\n",
    "avg_citation_in_target_test = np.genfromtxt('avg_citation_in_target_test.txt')\n",
    "avg_citation_out_source_test = np.genfromtxt('avg_citation_out_source_test.txt')\n",
    "avg_citation_out_target_test = np.genfromtxt('avg_citation_out_target_test.txt')"
   ]
  },
  {
   "cell_type": "code",
   "execution_count": 92,
   "metadata": {
    "collapsed": true,
    "deletable": true,
    "editable": true
   },
   "outputs": [],
   "source": [
    "test_features_new = np.array([avg_citation_in_source_test, avg_citation_in_target_test, avg_citation_out_source_test, avg_citation_out_target_test])"
   ]
  },
  {
   "cell_type": "code",
   "execution_count": 93,
   "metadata": {
    "collapsed": false,
    "deletable": true,
    "editable": true
   },
   "outputs": [
    {
     "data": {
      "text/plain": [
       "(4, 32648)"
      ]
     },
     "execution_count": 93,
     "metadata": {},
     "output_type": "execute_result"
    }
   ],
   "source": [
    "test_features_new.shape"
   ]
  },
  {
   "cell_type": "code",
   "execution_count": 94,
   "metadata": {
    "collapsed": true,
    "deletable": true,
    "editable": true
   },
   "outputs": [],
   "source": [
    "test_features = np.concatenate((test_features, test_features_new.T), axis=1)"
   ]
  },
  {
   "cell_type": "code",
   "execution_count": 95,
   "metadata": {
    "collapsed": false,
    "deletable": true,
    "editable": true
   },
   "outputs": [
    {
     "name": "stdout",
     "output_type": "stream",
     "text": [
      "(32648, 20)\n"
     ]
    }
   ],
   "source": [
    "print test_features.shape"
   ]
  },
  {
   "cell_type": "code",
   "execution_count": 96,
   "metadata": {
    "collapsed": false,
    "deletable": true,
    "editable": true
   },
   "outputs": [],
   "source": [
    "X_test = test_features[:,2:]\n",
    "y_test_pred = best_random.predict(X_test)"
   ]
  },
  {
   "cell_type": "code",
   "execution_count": 97,
   "metadata": {
    "collapsed": false,
    "deletable": true,
    "editable": true
   },
   "outputs": [],
   "source": [
    "test_predictions_random = zip(range(len(y_test_pred)), y_test_pred)\n",
    "\n",
    "with open(\"rf_authors_extended_grid.csv\",\"wb\") as pred1:\n",
    "    csv_out = csv.writer(pred1)\n",
    "    csv_out.writerow(('ID','category'))\n",
    "    i = -1\n",
    "    for row in test_predictions_random:\n",
    "        i += 1\n",
    "        if X_test[i][1] < 0:\n",
    "            hardcode = (i, str(0))\n",
    "            csv_out.writerow(hardcode)\n",
    "            continue\n",
    "        csv_out.writerow(row)"
   ]
  },
  {
   "cell_type": "code",
   "execution_count": null,
   "metadata": {
    "collapsed": true,
    "deletable": true,
    "editable": true
   },
   "outputs": [],
   "source": [
    "test_predictions_random = zip(range(len(y_test_pred)), y_test_pred)\n",
    "\n",
    "with open(\"adaboost_authors.csv\",\"wb\") as pred1:\n",
    "    csv_out = csv.writer(pred1)\n",
    "    csv_out.writerow(('ID','category'))\n",
    "    i = -1\n",
    "    for row in test_predictions_random:\n",
    "        i += 1\n",
    "        if X_test[i][1] < 0:\n",
    "            hardcode = (i, str(0))\n",
    "            csv_out.writerow(hardcode)\n",
    "            continue\n",
    "        csv_out.writerow(row)"
   ]
  },
  {
   "cell_type": "code",
   "execution_count": 20,
   "metadata": {
    "collapsed": true,
    "deletable": true,
    "editable": true
   },
   "outputs": [],
   "source": [
    "from sklearn.tree import DecisionTreeClassifier\n",
    "from sklearn import preprocessing"
   ]
  },
  {
   "cell_type": "code",
   "execution_count": 27,
   "metadata": {
    "collapsed": false,
    "deletable": true,
    "editable": true
   },
   "outputs": [],
   "source": [
    "training_features_scaled = preprocessing.scale(X)\n",
    "X_train, X_val, y_train, y_val = train_test_split(\n",
    "    training_features_scaled, y, test_size=0.33, random_state=42)\n"
   ]
  },
  {
   "cell_type": "code",
   "execution_count": 29,
   "metadata": {
    "collapsed": false,
    "deletable": true,
    "editable": true
   },
   "outputs": [
    {
     "data": {
      "text/plain": [
       "AdaBoostClassifier(algorithm='SAMME',\n",
       "          base_estimator=DecisionTreeClassifier(class_weight=None, criterion='gini', max_depth=4,\n",
       "            max_features=None, max_leaf_nodes=None,\n",
       "            min_impurity_split=1e-07, min_samples_leaf=1,\n",
       "            min_samples_split=2, min_weight_fraction_leaf=0.0,\n",
       "            presort=False, random_state=None, splitter='best'),\n",
       "          learning_rate=0.2, n_estimators=400, random_state=42)"
      ]
     },
     "execution_count": 29,
     "metadata": {},
     "output_type": "execute_result"
    }
   ],
   "source": [
    "bdt.fit(X_train,y_train)"
   ]
  },
  {
   "cell_type": "code",
   "execution_count": 30,
   "metadata": {
    "collapsed": true,
    "deletable": true,
    "editable": true
   },
   "outputs": [],
   "source": [
    "y_train_prediction=bdt.predict(X_train)"
   ]
  },
  {
   "cell_type": "code",
   "execution_count": 31,
   "metadata": {
    "collapsed": false,
    "deletable": true,
    "editable": true
   },
   "outputs": [
    {
     "name": "stdout",
     "output_type": "stream",
     "text": [
      "F1-score:  0.974799945261\n",
      "Accuracy:  0.972761419326\n",
      "F1-score:  0.974871494212\n",
      "Accuracy:  0.972779503641\n"
     ]
    }
   ],
   "source": [
    "f1score = f1_score(y_train, y_train_prediction)\n",
    "acc = accuracy_score(y_train, y_train_prediction)\n",
    "print 'F1-score: ', f1score\n",
    "print 'Accuracy: ', acc\n",
    "y_val_pred = bdt.predict(X_val)\n",
    "f1score = f1_score(y_val, y_val_pred)\n",
    "acc = accuracy_score(y_val, y_val_pred)\n",
    "print 'F1-score: ', f1score\n",
    "print 'Accuracy: ', acc"
   ]
  },
  {
   "cell_type": "code",
   "execution_count": null,
   "metadata": {
    "collapsed": true,
    "deletable": true,
    "editable": true
   },
   "outputs": [],
   "source": []
  },
  {
   "cell_type": "code",
   "execution_count": 14,
   "metadata": {
    "collapsed": false,
    "deletable": true,
    "editable": true
   },
   "outputs": [],
   "source": [
    "test_features = np.genfromtxt('features_test_unscaled_authors.csv', delimiter=',')"
   ]
  },
  {
   "cell_type": "code",
   "execution_count": 15,
   "metadata": {
    "collapsed": false,
    "deletable": true,
    "editable": true
   },
   "outputs": [
    {
     "name": "stdout",
     "output_type": "stream",
     "text": [
      "(32649, 16)\n",
      "(32648, 16)\n"
     ]
    }
   ],
   "source": [
    "print test_features.shape\n",
    "test_features = test_features[1:] # Ignoring the header\n",
    "test_features[10]\n",
    "print test_features.shape"
   ]
  },
  {
   "cell_type": "code",
   "execution_count": 16,
   "metadata": {
    "collapsed": true,
    "deletable": true,
    "editable": true
   },
   "outputs": [],
   "source": [
    "X_test = test_features[:,2:]"
   ]
  },
  {
   "cell_type": "code",
   "execution_count": 17,
   "metadata": {
    "collapsed": true,
    "deletable": true,
    "editable": true
   },
   "outputs": [],
   "source": [
    "y_test_pred = bdt.predict(X_test)"
   ]
  },
  {
   "cell_type": "code",
   "execution_count": 18,
   "metadata": {
    "collapsed": false,
    "deletable": true,
    "editable": true
   },
   "outputs": [],
   "source": [
    "test_predictions_random = zip(range(len(y_test_pred)), y_test_pred)\n",
    "\n",
    "with open(\"adaboost_authors.csv\",\"wb\") as pred1:\n",
    "    csv_out = csv.writer(pred1)\n",
    "    csv_out.writerow(('ID','category'))\n",
    "    i = -1\n",
    "    for row in test_predictions_random:\n",
    "        i += 1\n",
    "        if X_test[i][1] < 0:\n",
    "            hardcode = (i, str(0))\n",
    "            csv_out.writerow(hardcode)\n",
    "            continue\n",
    "        csv_out.writerow(row)"
   ]
  },
  {
   "cell_type": "code",
   "execution_count": null,
   "metadata": {
    "collapsed": false,
    "deletable": true,
    "editable": true
   },
   "outputs": [],
   "source": [
    "print X_test.shape"
   ]
  },
  {
   "cell_type": "code",
   "execution_count": null,
   "metadata": {
    "collapsed": true,
    "deletable": true,
    "editable": true
   },
   "outputs": [],
   "source": []
  }
 ],
 "metadata": {
  "kernelspec": {
   "display_name": "Python 2",
   "language": "python",
   "name": "python2"
  },
  "language_info": {
   "codemirror_mode": {
    "name": "ipython",
    "version": 2
   },
   "file_extension": ".py",
   "mimetype": "text/x-python",
   "name": "python",
   "nbconvert_exporter": "python",
   "pygments_lexer": "ipython2",
   "version": "2.7.12"
  },
  "toc": {
   "colors": {
    "hover_highlight": "#DAA520",
    "running_highlight": "#FF0000",
    "selected_highlight": "#FFD700"
   },
   "moveMenuLeft": true,
   "nav_menu": {
    "height": "12px",
    "width": "252px"
   },
   "navigate_menu": true,
   "number_sections": true,
   "sideBar": true,
   "threshold": 4,
   "toc_cell": false,
   "toc_section_display": "block",
   "toc_window_display": false,
   "widenNotebook": false
  }
 },
 "nbformat": 4,
 "nbformat_minor": 2
}
