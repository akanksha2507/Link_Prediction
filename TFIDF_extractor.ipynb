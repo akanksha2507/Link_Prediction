{
 "cells": [
  {
   "cell_type": "code",
   "execution_count": 67,
   "metadata": {
    "collapsed": false
   },
   "outputs": [],
   "source": [
    "import numpy as np\n",
    "import os, csv\n",
    "import pandas as pd\n",
    "import matplotlib.pyplot as plt\n",
    "%matplotlib inline\n",
    "from nltk.tokenize import RegexpTokenizer\n",
    "from nltk.stem.snowball import SnowballStemmer"
   ]
  },
  {
   "cell_type": "code",
   "execution_count": 100,
   "metadata": {
    "collapsed": false
   },
   "outputs": [],
   "source": [
    "f = open('node_information.csv', 'r')\n",
    "lines = f.readlines()\n",
    "text_dict = {}\n",
    "tokenizer = RegexpTokenizer(r'\\w+')\n",
    "stemmer = SnowballStemmer(\"english\")\n",
    "for line in lines:\n",
    "    line_info = line.strip().split(',')\n",
    "    text = tokenizer.tokenize(line_info[-1])\n",
    "    text = [t for t in text if t.isalpha()]\n",
    "    text = [stemmer.stem(t) for t in text]\n",
    "    text_dict[line_info[0]] = ' '.join(text)"
   ]
  },
  {
   "cell_type": "code",
   "execution_count": 101,
   "metadata": {
    "collapsed": false
   },
   "outputs": [
    {
     "name": "stdout",
     "output_type": "stream",
     "text": [
      "27770\n"
     ]
    }
   ],
   "source": [
    "print len(text_dict)"
   ]
  },
  {
   "cell_type": "code",
   "execution_count": 102,
   "metadata": {
    "collapsed": false
   },
   "outputs": [
    {
     "data": {
      "text/plain": [
       "u'we give the descript of discret moduli space d m s mcdisc introduc in cite in term of a discret de rham cohomolog for each moduli space mgn of a genus g n be the number of punctur we demonstr that intersect indic cohomolog class calcul for d m s coincid with the one for the continuum moduli space mc compactifi by delign and mumford procedur to show it we use a matrix model techniqu the kontsevich matrix model is a generat function for these indic in the continuum case and the matrix model with the potenti n alpha tr bigl fr l x l x log x x bigr is the one for d m s in the last case the effect of reduct becom relev but we use the stratif procedur in order to express integr over open space mdisc in term of intersect indic which are to be calcul on compactifi space the coincid of the cohomolog class for both continuum and d m s model enabl us to propos the exist of a quantum group structur on d m s then d m s are noth but cyclic except represent of a quantum group relat to a moduli space mc consid the explicit express for integr of chern class over mc and mcdisc we conjectur that each moduli space mc in the kontsevich parametr can be present as a coset mc bf t d g d n where bf t d is some d dimension complex torus and g is a finit order symmetri group of bf t d'"
      ]
     },
     "execution_count": 102,
     "metadata": {},
     "output_type": "execute_result"
    }
   ],
   "source": [
    "text_dict[text_dict.keys()[0]]"
   ]
  },
  {
   "cell_type": "code",
   "execution_count": 103,
   "metadata": {
    "collapsed": false
   },
   "outputs": [],
   "source": [
    "keys = []\n",
    "corpus = []\n",
    "for id, text in sorted(text_dict.iteritems(), key=lambda t: int(t[0])):\n",
    "    keys.append(id)\n",
    "    corpus.append(text)"
   ]
  },
  {
   "cell_type": "code",
   "execution_count": 104,
   "metadata": {
    "collapsed": false
   },
   "outputs": [
    {
     "name": "stdout",
     "output_type": "stream",
     "text": [
      "27770 27770\n"
     ]
    }
   ],
   "source": [
    "print len(keys), len(corpus)"
   ]
  },
  {
   "cell_type": "code",
   "execution_count": 105,
   "metadata": {
    "collapsed": false
   },
   "outputs": [],
   "source": [
    "from sklearn.feature_extraction.text import TfidfVectorizer\n",
    "tf = TfidfVectorizer(analyzer='word', ngram_range=(1,1), min_df = 0, max_df=0.7, stop_words = 'english')"
   ]
  },
  {
   "cell_type": "code",
   "execution_count": 106,
   "metadata": {
    "collapsed": true
   },
   "outputs": [],
   "source": [
    "tfidf_matrix =  tf.fit_transform(corpus)\n",
    "feature_names = tf.get_feature_names() "
   ]
  },
  {
   "cell_type": "code",
   "execution_count": 107,
   "metadata": {
    "collapsed": false
   },
   "outputs": [
    {
     "name": "stdout",
     "output_type": "stream",
     "text": [
      "15764\n"
     ]
    }
   ],
   "source": [
    "print len(feature_names)\n",
    "tfidf_dense = tfidf_matrix.todense()"
   ]
  },
  {
   "cell_type": "code",
   "execution_count": 114,
   "metadata": {
    "collapsed": false
   },
   "outputs": [
    {
     "data": {
      "text/plain": [
       "numpy.ndarray"
      ]
     },
     "execution_count": 114,
     "metadata": {},
     "output_type": "execute_result"
    }
   ],
   "source": [
    "tfidf_dense = np.asarray(tfidf_dense.tolist())\n",
    "type(tfidf_dense)"
   ]
  },
  {
   "cell_type": "code",
   "execution_count": 115,
   "metadata": {
    "collapsed": false
   },
   "outputs": [
    {
     "name": "stdout",
     "output_type": "stream",
     "text": [
      "(27770, 15764)\n"
     ]
    }
   ],
   "source": [
    "print tfidf_dense.shape"
   ]
  },
  {
   "cell_type": "code",
   "execution_count": 111,
   "metadata": {
    "collapsed": false
   },
   "outputs": [],
   "source": [
    "np.savetxt('summary_tfidf.txt', tfidf_dense)"
   ]
  },
  {
   "cell_type": "code",
   "execution_count": 117,
   "metadata": {
    "collapsed": false
   },
   "outputs": [],
   "source": [
    "tfidf_dict = {}\n",
    "i = 0\n",
    "for item in keys:\n",
    "    tfidf_dict[str(item)] = tfidf_dense[i]\n",
    "    i+=1"
   ]
  },
  {
   "cell_type": "code",
   "execution_count": 130,
   "metadata": {
    "collapsed": false
   },
   "outputs": [],
   "source": [
    "f = open('training_set.txt')\n",
    "lines = f.readlines()"
   ]
  },
  {
   "cell_type": "code",
   "execution_count": 134,
   "metadata": {
    "collapsed": true
   },
   "outputs": [],
   "source": [
    "from scipy import spatial"
   ]
  },
  {
   "cell_type": "code",
   "execution_count": 141,
   "metadata": {
    "collapsed": false
   },
   "outputs": [],
   "source": [
    "tfidf_feat = {}\n",
    "for line in lines:\n",
    "    entry = line.split()\n",
    "    v1 = tfidf_dict[entry[0]]\n",
    "    v2 = tfidf_dict[entry[1]]\n",
    "    cosine = 1 - spatial.distance.cosine(v1, v2)\n",
    "    tfidf_feat[(entry[0], entry[1])] = cosine\n",
    "#     tfidf_feat.append((v1, v2, cosine))"
   ]
  },
  {
   "cell_type": "code",
   "execution_count": 142,
   "metadata": {
    "collapsed": false
   },
   "outputs": [],
   "source": [
    "import cPickle\n",
    "cPickle.dump(tfidf_feat, open('tfidf_features.p', 'wb')) "
   ]
  },
  {
   "cell_type": "code",
   "execution_count": 143,
   "metadata": {
    "collapsed": true
   },
   "outputs": [],
   "source": [
    "obj = cPickle.load(open('tfidf_features.p', 'rb'))"
   ]
  },
  {
   "cell_type": "code",
   "execution_count": 144,
   "metadata": {
    "collapsed": false
   },
   "outputs": [
    {
     "data": {
      "text/plain": [
       "dict"
      ]
     },
     "execution_count": 144,
     "metadata": {},
     "output_type": "execute_result"
    }
   ],
   "source": [
    "type(obj)"
   ]
  },
  {
   "cell_type": "code",
   "execution_count": 145,
   "metadata": {
    "collapsed": true
   },
   "outputs": [],
   "source": [
    "f = open('testing_set.txt')\n",
    "lines = f.readlines()\n",
    "tfidf_feat_test = {}\n",
    "for line in lines:\n",
    "    entry = line.split()\n",
    "    v1 = tfidf_dict[entry[0]]\n",
    "    v2 = tfidf_dict[entry[1]]\n",
    "    cosine = 1 - spatial.distance.cosine(v1, v2)\n",
    "    tfidf_feat_test[(entry[0], entry[1])] = cosine"
   ]
  },
  {
   "cell_type": "code",
   "execution_count": 146,
   "metadata": {
    "collapsed": true
   },
   "outputs": [],
   "source": [
    "cPickle.dump(tfidf_feat_test, open('tfidf_features_test.p', 'wb')) "
   ]
  },
  {
   "cell_type": "code",
   "execution_count": 147,
   "metadata": {
    "collapsed": false
   },
   "outputs": [
    {
     "data": {
      "text/plain": [
       "32648"
      ]
     },
     "execution_count": 147,
     "metadata": {},
     "output_type": "execute_result"
    }
   ],
   "source": [
    "len(tfidf_feat_test)"
   ]
  },
  {
   "cell_type": "code",
   "execution_count": null,
   "metadata": {
    "collapsed": true
   },
   "outputs": [],
   "source": []
  }
 ],
 "metadata": {
  "kernelspec": {
   "display_name": "Python 2",
   "language": "python",
   "name": "python2"
  },
  "language_info": {
   "codemirror_mode": {
    "name": "ipython",
    "version": 2
   },
   "file_extension": ".py",
   "mimetype": "text/x-python",
   "name": "python",
   "nbconvert_exporter": "python",
   "pygments_lexer": "ipython2",
   "version": "2.7.12"
  },
  "toc": {
   "colors": {
    "hover_highlight": "#DAA520",
    "running_highlight": "#FF0000",
    "selected_highlight": "#FFD700"
   },
   "moveMenuLeft": true,
   "nav_menu": {
    "height": "12px",
    "width": "252px"
   },
   "navigate_menu": true,
   "number_sections": true,
   "sideBar": true,
   "threshold": 4,
   "toc_cell": false,
   "toc_section_display": "block",
   "toc_window_display": false,
   "widenNotebook": false
  }
 },
 "nbformat": 4,
 "nbformat_minor": 2
}
